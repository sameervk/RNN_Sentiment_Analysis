{
 "cells": [
  {
   "cell_type": "code",
   "execution_count": 1,
   "metadata": {
    "colab": {
     "base_uri": "https://localhost:8080/",
     "height": 17
    },
    "colab_type": "code",
    "id": "d86-C5GTybkJ",
    "outputId": "9092a16d-dfcf-45f4-c664-3cfce7c6dfc9"
   },
   "outputs": [
    {
     "data": {
      "text/html": [
       "<style>.container { width:100% !important; }</style>"
      ],
      "text/plain": [
       "<IPython.core.display.HTML object>"
      ]
     },
     "metadata": {},
     "output_type": "display_data"
    }
   ],
   "source": [
    "from IPython.core.display import display, HTML\n",
    "display(HTML(\"<style>.container { width:100% !important; }</style>\"))"
   ]
  },
  {
   "cell_type": "markdown",
   "metadata": {
    "colab_type": "text",
    "id": "In7sRWCRybkN"
   },
   "source": [
    "## Recurrent Neural Network for classifying movie reviews from IMDb dataset\n",
    "@Author: Sameer Kesava\n",
    "          * 50000 reviews\n",
    "          * 1 and 0 labels (sentiment for positive and negative respectively)\n",
    "          * Train-Test split: 4 to 1\n",
    "          * 1 LSTM layer, 1 Dense Layer\n",
    "          * Dropout: 0.5 at the output     \n",
    "          * Binary Cross Entropy Loss function    \n",
    "          * Adam Optimizer(learning rate: .001)\n",
    "          * Batch size: 100\n",
    "          * Epochs: 10\n",
    "          * Embed size = 200, LSTM size = 256, Stateful = True - Train data accuracy: 99%; Test data accuracy: 87% => Overfitting\n",
    "          * Embed size = 200, LSTM size = 256, Stateful = False - Train data accuracy: 99%; Test data accuracy: 87% => Overfitting\n",
    "          * Embed size = 200, LSTM size = 64, Stateful = False - Train data accuracy: 99%; Test data accuracy: 88% => Still overfitting\n",
    "          * Requires regularization to reduce overfitting\n",
    "          * Embed size = 50, LSTM size = 64; L2 Regularization: 0.01, Stateful = False - Train data accuracy: 98%; Test data accuracy: 86% => Still overfitting\n"
   ]
  },
  {
   "cell_type": "markdown",
   "metadata": {
    "colab_type": "text",
    "id": "d9UjRo77ybkO"
   },
   "source": [
    "        * Dataset from \"Learning Word Vectors for Sentiment Analysis\", Maas et al, Proceedings of the 49th Annual Meeting of the Association for Computational Linguistics: Human Language Technologies, pages 142-150, Portland, Oregon, USA, Association for Computational Linguistics, June 2011"
   ]
  },
  {
   "cell_type": "markdown",
   "metadata": {
    "colab_type": "text",
    "id": "jCz4H82eybkP"
   },
   "source": [
    "#### Importing dataset"
   ]
  },
  {
   "cell_type": "code",
   "execution_count": 2,
   "metadata": {
    "colab": {
     "base_uri": "https://localhost:8080/",
     "height": 75,
     "resources": {
      "http://localhost:8080/nbextensions/google.colab/files.js": {
       "data": "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",
       "headers": [
        [
         "content-type",
         "application/javascript"
        ]
       ],
       "ok": true,
       "status": 200,
       "status_text": ""
      }
     }
    },
    "colab_type": "code",
    "id": "gqV1V_VFy8YR",
    "outputId": "9554e8a1-44ec-429d-d35a-cfb36f99d2d0"
   },
   "outputs": [],
   "source": [
    "#from google.colab import files\n",
    "#data_file = files.upload()"
   ]
  },
  {
   "cell_type": "code",
   "execution_count": 3,
   "metadata": {
    "colab": {},
    "colab_type": "code",
    "id": "i51rqZl3ybkQ"
   },
   "outputs": [],
   "source": [
    "import pandas as pd"
   ]
  },
  {
   "cell_type": "code",
   "execution_count": 4,
   "metadata": {
    "colab": {},
    "colab_type": "code",
    "id": "KF-28ee1ybkS"
   },
   "outputs": [],
   "source": [
    "review_data = pd.read_csv('movie_data.csv')"
   ]
  },
  {
   "cell_type": "code",
   "execution_count": 5,
   "metadata": {
    "colab": {
     "base_uri": "https://localhost:8080/",
     "height": 35
    },
    "colab_type": "code",
    "id": "tyY2ZVO-ybkV",
    "outputId": "8d42d60b-3430-4139-d483-0402b06d1392",
    "scrolled": true
   },
   "outputs": [
    {
     "data": {
      "text/plain": [
       "Index(['review', 'sentiment'], dtype='object')"
      ]
     },
     "execution_count": 5,
     "metadata": {},
     "output_type": "execute_result"
    }
   ],
   "source": [
    "review_data.columns"
   ]
  },
  {
   "cell_type": "code",
   "execution_count": 6,
   "metadata": {
    "colab": {
     "base_uri": "https://localhost:8080/",
     "height": 141
    },
    "colab_type": "code",
    "id": "_WsUMzeBybkX",
    "outputId": "30ce89a8-e4ec-4dad-d82d-eda0ab3912f6"
   },
   "outputs": [
    {
     "data": {
      "text/html": [
       "<div>\n",
       "<style scoped>\n",
       "    .dataframe tbody tr th:only-of-type {\n",
       "        vertical-align: middle;\n",
       "    }\n",
       "\n",
       "    .dataframe tbody tr th {\n",
       "        vertical-align: top;\n",
       "    }\n",
       "\n",
       "    .dataframe thead th {\n",
       "        text-align: right;\n",
       "    }\n",
       "</style>\n",
       "<table border=\"1\" class=\"dataframe\">\n",
       "  <thead>\n",
       "    <tr style=\"text-align: right;\">\n",
       "      <th></th>\n",
       "      <th>review</th>\n",
       "      <th>sentiment</th>\n",
       "    </tr>\n",
       "  </thead>\n",
       "  <tbody>\n",
       "    <tr>\n",
       "      <th>0</th>\n",
       "      <td>I went and saw this movie last night after bei...</td>\n",
       "      <td>1</td>\n",
       "    </tr>\n",
       "    <tr>\n",
       "      <th>1</th>\n",
       "      <td>Actor turned director Bill Paxton follows up h...</td>\n",
       "      <td>1</td>\n",
       "    </tr>\n",
       "    <tr>\n",
       "      <th>2</th>\n",
       "      <td>As a recreational golfer with some knowledge o...</td>\n",
       "      <td>1</td>\n",
       "    </tr>\n",
       "  </tbody>\n",
       "</table>\n",
       "</div>"
      ],
      "text/plain": [
       "                                              review  sentiment\n",
       "0  I went and saw this movie last night after bei...          1\n",
       "1  Actor turned director Bill Paxton follows up h...          1\n",
       "2  As a recreational golfer with some knowledge o...          1"
      ]
     },
     "execution_count": 6,
     "metadata": {},
     "output_type": "execute_result"
    }
   ],
   "source": [
    "review_data.head(3)"
   ]
  },
  {
   "cell_type": "code",
   "execution_count": 7,
   "metadata": {
    "colab": {
     "base_uri": "https://localhost:8080/",
     "height": 141
    },
    "colab_type": "code",
    "id": "-l2gC51Cybka",
    "outputId": "eb37759b-d760-48c5-9611-3458bb55f42e"
   },
   "outputs": [
    {
     "name": "stdout",
     "output_type": "stream",
     "text": [
      "<class 'pandas.core.frame.DataFrame'>\n",
      "RangeIndex: 50000 entries, 0 to 49999\n",
      "Data columns (total 2 columns):\n",
      "review       50000 non-null object\n",
      "sentiment    50000 non-null int64\n",
      "dtypes: int64(1), object(1)\n",
      "memory usage: 781.3+ KB\n"
     ]
    }
   ],
   "source": [
    "review_data.info()"
   ]
  },
  {
   "cell_type": "code",
   "execution_count": null,
   "metadata": {
    "colab": {},
    "colab_type": "code",
    "id": "hAWVMfKFybkc"
   },
   "outputs": [],
   "source": []
  },
  {
   "cell_type": "markdown",
   "metadata": {
    "colab_type": "text",
    "id": "7vryjVcAybkf"
   },
   "source": [
    "### Counting the number of words including punctuation"
   ]
  },
  {
   "cell_type": "code",
   "execution_count": 8,
   "metadata": {
    "colab": {},
    "colab_type": "code",
    "id": "M_6TRp7mybkf"
   },
   "outputs": [],
   "source": [
    "from collections import Counter"
   ]
  },
  {
   "cell_type": "code",
   "execution_count": 9,
   "metadata": {
    "colab": {},
    "colab_type": "code",
    "id": "pEI4NUeBybkj"
   },
   "outputs": [],
   "source": [
    "counter = Counter()"
   ]
  },
  {
   "cell_type": "code",
   "execution_count": 10,
   "metadata": {
    "colab": {},
    "colab_type": "code",
    "id": "qkRY4Y-xybkm"
   },
   "outputs": [],
   "source": [
    "from string import punctuation"
   ]
  },
  {
   "cell_type": "code",
   "execution_count": 11,
   "metadata": {
    "colab": {
     "base_uri": "https://localhost:8080/",
     "height": 55
    },
    "colab_type": "code",
    "id": "1sWDpoIuybko",
    "outputId": "3ebc8b78-ab2d-4f51-deb7-4c32e6a7e8cc"
   },
   "outputs": [
    {
     "data": {
      "text/plain": [
       "\"I went and saw this movie last night after being coaxed to by a few friends of mine .  I ' ll admit that I was reluctant to see it because from what I knew of Ashton Kutcher he was only able to do comedy .  I was wrong .  Kutcher played the character of Jake Fischer very well ,  and Kevin Costner played Ben Randall with such professionalism .  The sign of a good movie is that it can toy with our emotions .  This one did exactly that .  The entire theater  ( which was sold out )  was overcome by laughter during the first half of the movie ,  and were moved to tears during the second half .  While exiting the theater I not only saw many women in tears ,  but many full grown men as well ,  trying desperately not to let anyone see them crying .  This movie was great ,  and I suggest that you go see it before you judge . \""
      ]
     },
     "execution_count": 11,
     "metadata": {},
     "output_type": "execute_result"
    }
   ],
   "source": [
    "# including punctuation in the text as features\n",
    "test_str = ''.join([c if c not in punctuation else ' '+c+' ' for c in review_data['review'][0]])\n",
    "test_str"
   ]
  },
  {
   "cell_type": "code",
   "execution_count": 12,
   "metadata": {
    "colab": {
     "base_uri": "https://localhost:8080/",
     "height": 55
    },
    "colab_type": "code",
    "id": "uBTlyPkJybkr",
    "outputId": "a8fb34ca-0c21-4309-b727-daeea6790806"
   },
   "outputs": [
    {
     "data": {
      "text/plain": [
       "'i went and saw this movie last night after being coaxed to by a few friends of mine ill admit that i was reluctant to see it because from what i knew of ashton kutcher he was only able to do comedy i was wrong kutcher played the character of jake fischer very well and kevin costner played ben randall with such professionalism the sign of a good movie is that it can toy with our emotions this one did exactly that the entire theater which was sold out was overcome by laughter during the first half of the movie and were moved to tears during the second half while exiting the theater i not only saw many women in tears but many full grown men as well trying desperately not to let anyone see them crying this movie was great and i suggest that you go see it before you judge'"
      ]
     },
     "execution_count": 12,
     "metadata": {},
     "output_type": "execute_result"
    }
   ],
   "source": [
    "# removing punctuation in the text as features\n",
    "test_str_2 = ''.join([c if c not in punctuation else '' for c in review_data['review'][0]]).lower()\n",
    "test_str_2"
   ]
  },
  {
   "cell_type": "code",
   "execution_count": 13,
   "metadata": {
    "colab": {
     "base_uri": "https://localhost:8080/",
     "height": 35
    },
    "colab_type": "code",
    "id": "zPS0qVieybkt",
    "outputId": "b4a8edba-6ea6-411f-8206-65903b1c5078"
   },
   "outputs": [
    {
     "data": {
      "text/plain": [
       "['i', 'went', 'and', 'saw', 'this', 'movie', 'last', 'night', 'after', 'being']"
      ]
     },
     "execution_count": 13,
     "metadata": {},
     "output_type": "execute_result"
    }
   ],
   "source": [
    "test_str_2.split()[:10]"
   ]
  },
  {
   "cell_type": "markdown",
   "metadata": {
    "colab_type": "text",
    "id": "ml0afH-Tybkv"
   },
   "source": [
    "##### Including punctuation in the sequence"
   ]
  },
  {
   "cell_type": "code",
   "execution_count": 14,
   "metadata": {
    "colab": {},
    "colab_type": "code",
    "id": "2QzHBHs4ybkw"
   },
   "outputs": [],
   "source": [
    "review_data['review'] = review_data['review'].map(lambda x: ''.join([c if c not in punctuation \\\n",
    "                                                             else ' '+c+' ' for c \\\n",
    "                                                             in x]).lower())"
   ]
  },
  {
   "cell_type": "code",
   "execution_count": 15,
   "metadata": {
    "colab": {
     "base_uri": "https://localhost:8080/",
     "height": 55
    },
    "colab_type": "code",
    "id": "z9_DjsR0ybky",
    "outputId": "6c46f237-4c80-4be4-cee2-ce36f3f6b975"
   },
   "outputs": [
    {
     "data": {
      "text/plain": [
       "\"i went and saw this movie last night after being coaxed to by a few friends of mine .  i ' ll admit that i was reluctant to see it because from what i knew of ashton kutcher he was only able to do comedy .  i was wrong .  kutcher played the character of jake fischer very well ,  and kevin costner played ben randall with such professionalism .  the sign of a good movie is that it can toy with our emotions .  this one did exactly that .  the entire theater  ( which was sold out )  was overcome by laughter during the first half of the movie ,  and were moved to tears during the second half .  while exiting the theater i not only saw many women in tears ,  but many full grown men as well ,  trying desperately not to let anyone see them crying .  this movie was great ,  and i suggest that you go see it before you judge . \""
      ]
     },
     "execution_count": 15,
     "metadata": {},
     "output_type": "execute_result"
    }
   ],
   "source": [
    "review_data.loc[0, 'review']"
   ]
  },
  {
   "cell_type": "code",
   "execution_count": null,
   "metadata": {
    "colab": {},
    "colab_type": "code",
    "id": "ItdOk2tcybk3"
   },
   "outputs": [],
   "source": []
  },
  {
   "cell_type": "markdown",
   "metadata": {
    "colab_type": "text",
    "id": "MINAlBzoybk6"
   },
   "source": [
    "##### Updating counter with the words and its number of instances"
   ]
  },
  {
   "cell_type": "code",
   "execution_count": 16,
   "metadata": {
    "colab": {},
    "colab_type": "code",
    "id": "fCzJN4A8ybk7",
    "scrolled": true
   },
   "outputs": [],
   "source": [
    "review_data['review'].map(lambda x: counter.update(x.split()));"
   ]
  },
  {
   "cell_type": "code",
   "execution_count": 17,
   "metadata": {
    "colab": {
     "base_uri": "https://localhost:8080/",
     "height": 35
    },
    "colab_type": "code",
    "id": "drYp3BIZyblA",
    "outputId": "162b7dac-f838-48cf-9e20-6f40448968ea"
   },
   "outputs": [
    {
     "data": {
      "text/plain": [
       "102966"
      ]
     },
     "execution_count": 17,
     "metadata": {},
     "output_type": "execute_result"
    }
   ],
   "source": [
    "# Unique number of words/characters\n",
    "len(counter.values())"
   ]
  },
  {
   "cell_type": "code",
   "execution_count": 18,
   "metadata": {
    "colab": {
     "base_uri": "https://localhost:8080/",
     "height": 35
    },
    "colab_type": "code",
    "id": "-0ha-CjPyblC",
    "outputId": "1eb85bd9-092b-48f2-8507-237d74808fcd"
   },
   "outputs": [
    {
     "name": "stdout",
     "output_type": "stream",
     "text": [
      "['the', '.', ',', 'and', 'a']\n"
     ]
    }
   ],
   "source": [
    "# sorted in descending order\n",
    "word_counts = sorted(counter, key = counter.get, reverse = True) \n",
    "print(word_counts[0:5]) "
   ]
  },
  {
   "cell_type": "code",
   "execution_count": 19,
   "metadata": {
    "colab": {
     "base_uri": "https://localhost:8080/",
     "height": 35
    },
    "colab_type": "code",
    "id": "UgoRZyPPyblF",
    "outputId": "fdbfa801-d4dc-4f5f-815c-fa9d6be44014"
   },
   "outputs": [
    {
     "name": "stdout",
     "output_type": "stream",
     "text": [
      "['hoodies', 'mwuhahahaa', '\\x91autumn', 'bellwood', 'whelk']\n"
     ]
    }
   ],
   "source": [
    "print(word_counts[-5:])"
   ]
  },
  {
   "cell_type": "code",
   "execution_count": null,
   "metadata": {
    "colab": {},
    "colab_type": "code",
    "id": "4sekBr3FyblH"
   },
   "outputs": [],
   "source": []
  },
  {
   "cell_type": "markdown",
   "metadata": {
    "colab_type": "text",
    "id": "wX8Pxq0iyblK"
   },
   "source": [
    "### Converting unique words into integers"
   ]
  },
  {
   "cell_type": "code",
   "execution_count": 20,
   "metadata": {
    "colab": {
     "base_uri": "https://localhost:8080/",
     "height": 55
    },
    "colab_type": "code",
    "id": "l8SFFoY2yblL",
    "outputId": "27f697d6-8b5c-4381-cb65-691209d08b30"
   },
   "outputs": [
    {
     "data": {
      "text/plain": [
       "102966"
      ]
     },
     "execution_count": 20,
     "metadata": {},
     "output_type": "execute_result"
    }
   ],
   "source": [
    "n_unique_words = len(word_counts)\n",
    "n_unique_words"
   ]
  },
  {
   "cell_type": "code",
   "execution_count": null,
   "metadata": {
    "colab": {},
    "colab_type": "code",
    "id": "xDSxKNm9yblN"
   },
   "outputs": [],
   "source": []
  },
  {
   "cell_type": "code",
   "execution_count": 21,
   "metadata": {
    "colab": {},
    "colab_type": "code",
    "id": "5PZ73-tJyblP"
   },
   "outputs": [],
   "source": [
    "word_to_int = {word:i for i, word in enumerate(word_counts,1)}"
   ]
  },
  {
   "cell_type": "code",
   "execution_count": 22,
   "metadata": {
    "colab": {
     "base_uri": "https://localhost:8080/",
     "height": 55
    },
    "colab_type": "code",
    "id": "OA4szbgnyblR",
    "outputId": "50956ba5-baab-42a1-8f54-7df74c9c51e0"
   },
   "outputs": [
    {
     "data": {
      "text/plain": [
       "1"
      ]
     },
     "execution_count": 22,
     "metadata": {},
     "output_type": "execute_result"
    }
   ],
   "source": [
    "word_to_int['the']"
   ]
  },
  {
   "cell_type": "code",
   "execution_count": null,
   "metadata": {
    "colab": {},
    "colab_type": "code",
    "id": "rsllVbLkyblT"
   },
   "outputs": [],
   "source": []
  },
  {
   "cell_type": "markdown",
   "metadata": {
    "colab_type": "text",
    "id": "gYvjnTpAyblW"
   },
   "source": [
    "###### Testing"
   ]
  },
  {
   "cell_type": "code",
   "execution_count": 23,
   "metadata": {
    "colab": {},
    "colab_type": "code",
    "id": "PwG-XoAlyblX"
   },
   "outputs": [],
   "source": [
    "def word_int(text):    \n",
    "    return [word_to_int[word] for word in text.split()]"
   ]
  },
  {
   "cell_type": "code",
   "execution_count": 24,
   "metadata": {
    "colab": {
     "base_uri": "https://localhost:8080/",
     "height": 55
    },
    "colab_type": "code",
    "id": "X4tu887Yyblb",
    "outputId": "1a91e772-6927-4af3-8ce8-f3174df12fe8"
   },
   "outputs": [
    {
     "data": {
      "text/plain": [
       "[6133, 5092]"
      ]
     },
     "execution_count": 24,
     "metadata": {},
     "output_type": "execute_result"
    }
   ],
   "source": [
    "word_int('sentiment analysis')"
   ]
  },
  {
   "cell_type": "markdown",
   "metadata": {
    "colab_type": "text",
    "id": "QDceNqiuybld"
   },
   "source": [
    "###### End Testing"
   ]
  },
  {
   "cell_type": "code",
   "execution_count": null,
   "metadata": {
    "colab": {},
    "colab_type": "code",
    "id": "qm_j5Lboyble"
   },
   "outputs": [],
   "source": []
  },
  {
   "cell_type": "code",
   "execution_count": 25,
   "metadata": {
    "colab": {},
    "colab_type": "code",
    "id": "Tle1r7umyblh"
   },
   "outputs": [],
   "source": [
    "review_data['review_int'] = review_data['review'].map(lambda text: [word_to_int[word] for word in text.split()])"
   ]
  },
  {
   "cell_type": "code",
   "execution_count": 26,
   "metadata": {
    "colab": {
     "base_uri": "https://localhost:8080/",
     "height": 595
    },
    "colab_type": "code",
    "id": "FetUXuq-yblj",
    "outputId": "7aeb5f2b-05f6-4d5b-d398-84644e3b8b70"
   },
   "outputs": [
    {
     "data": {
      "text/html": [
       "<div>\n",
       "<style scoped>\n",
       "    .dataframe tbody tr th:only-of-type {\n",
       "        vertical-align: middle;\n",
       "    }\n",
       "\n",
       "    .dataframe tbody tr th {\n",
       "        vertical-align: top;\n",
       "    }\n",
       "\n",
       "    .dataframe thead th {\n",
       "        text-align: right;\n",
       "    }\n",
       "</style>\n",
       "<table border=\"1\" class=\"dataframe\">\n",
       "  <thead>\n",
       "    <tr style=\"text-align: right;\">\n",
       "      <th></th>\n",
       "      <th>review</th>\n",
       "      <th>sentiment</th>\n",
       "      <th>review_int</th>\n",
       "    </tr>\n",
       "  </thead>\n",
       "  <tbody>\n",
       "    <tr>\n",
       "      <th>0</th>\n",
       "      <td>i went and saw this movie last night after bei...</td>\n",
       "      <td>1</td>\n",
       "      <td>[16, 433, 4, 227, 17, 24, 254, 328, 114, 125, ...</td>\n",
       "    </tr>\n",
       "    <tr>\n",
       "      <th>1</th>\n",
       "      <td>actor turned director bill paxton follows up h...</td>\n",
       "      <td>1</td>\n",
       "      <td>[297, 672, 169, 972, 5826, 1119, 68, 37, 2424,...</td>\n",
       "    </tr>\n",
       "    <tr>\n",
       "      <th>2</th>\n",
       "      <td>as a recreational golfer with some knowledge o...</td>\n",
       "      <td>1</td>\n",
       "      <td>[23, 5, 25748, 28252, 26, 61, 1859, 6, 1, 4005...</td>\n",
       "    </tr>\n",
       "    <tr>\n",
       "      <th>3</th>\n",
       "      <td>i saw this film in a sneak preview ,  and it i...</td>\n",
       "      <td>1</td>\n",
       "      <td>[16, 227, 17, 28, 15, 5, 5174, 4070, 3, 4, 14,...</td>\n",
       "    </tr>\n",
       "    <tr>\n",
       "      <th>4</th>\n",
       "      <td>bill paxton has taken the true story of the 19...</td>\n",
       "      <td>1</td>\n",
       "      <td>[972, 5826, 58, 621, 1, 307, 76, 6, 1, 16605, ...</td>\n",
       "    </tr>\n",
       "  </tbody>\n",
       "</table>\n",
       "</div>"
      ],
      "text/plain": [
       "                                              review  sentiment  \\\n",
       "0  i went and saw this movie last night after bei...          1   \n",
       "1  actor turned director bill paxton follows up h...          1   \n",
       "2  as a recreational golfer with some knowledge o...          1   \n",
       "3  i saw this film in a sneak preview ,  and it i...          1   \n",
       "4  bill paxton has taken the true story of the 19...          1   \n",
       "\n",
       "                                          review_int  \n",
       "0  [16, 433, 4, 227, 17, 24, 254, 328, 114, 125, ...  \n",
       "1  [297, 672, 169, 972, 5826, 1119, 68, 37, 2424,...  \n",
       "2  [23, 5, 25748, 28252, 26, 61, 1859, 6, 1, 4005...  \n",
       "3  [16, 227, 17, 28, 15, 5, 5174, 4070, 3, 4, 14,...  \n",
       "4  [972, 5826, 58, 621, 1, 307, 76, 6, 1, 16605, ...  "
      ]
     },
     "execution_count": 26,
     "metadata": {},
     "output_type": "execute_result"
    }
   ],
   "source": [
    "review_data.head(5)"
   ]
  },
  {
   "cell_type": "code",
   "execution_count": null,
   "metadata": {
    "colab": {},
    "colab_type": "code",
    "id": "mW4jZFQ8yblm"
   },
   "outputs": [],
   "source": []
  },
  {
   "cell_type": "markdown",
   "metadata": {
    "colab_type": "text",
    "id": "Ubp9h-8Cyblo"
   },
   "source": [
    "#### Calculating word count of each review"
   ]
  },
  {
   "cell_type": "code",
   "execution_count": 27,
   "metadata": {
    "colab": {},
    "colab_type": "code",
    "id": "TYGm-F6Tyblp"
   },
   "outputs": [],
   "source": [
    "review_data['word_count'] = review_data['review_int'].apply(len)"
   ]
  },
  {
   "cell_type": "code",
   "execution_count": 28,
   "metadata": {
    "colab": {
     "base_uri": "https://localhost:8080/",
     "height": 595
    },
    "colab_type": "code",
    "id": "wcVFrNwlybls",
    "outputId": "75df268f-3384-4faf-bb96-91710223fa3b"
   },
   "outputs": [
    {
     "data": {
      "text/html": [
       "<div>\n",
       "<style scoped>\n",
       "    .dataframe tbody tr th:only-of-type {\n",
       "        vertical-align: middle;\n",
       "    }\n",
       "\n",
       "    .dataframe tbody tr th {\n",
       "        vertical-align: top;\n",
       "    }\n",
       "\n",
       "    .dataframe thead th {\n",
       "        text-align: right;\n",
       "    }\n",
       "</style>\n",
       "<table border=\"1\" class=\"dataframe\">\n",
       "  <thead>\n",
       "    <tr style=\"text-align: right;\">\n",
       "      <th></th>\n",
       "      <th>review</th>\n",
       "      <th>sentiment</th>\n",
       "      <th>review_int</th>\n",
       "      <th>word_count</th>\n",
       "    </tr>\n",
       "  </thead>\n",
       "  <tbody>\n",
       "    <tr>\n",
       "      <th>0</th>\n",
       "      <td>i went and saw this movie last night after bei...</td>\n",
       "      <td>1</td>\n",
       "      <td>[16, 433, 4, 227, 17, 24, 254, 328, 114, 125, ...</td>\n",
       "      <td>170</td>\n",
       "    </tr>\n",
       "    <tr>\n",
       "      <th>1</th>\n",
       "      <td>actor turned director bill paxton follows up h...</td>\n",
       "      <td>1</td>\n",
       "      <td>[297, 672, 169, 972, 5826, 1119, 68, 37, 2424,...</td>\n",
       "      <td>421</td>\n",
       "    </tr>\n",
       "    <tr>\n",
       "      <th>2</th>\n",
       "      <td>as a recreational golfer with some knowledge o...</td>\n",
       "      <td>1</td>\n",
       "      <td>[23, 5, 25748, 28252, 26, 61, 1859, 6, 1, 4005...</td>\n",
       "      <td>296</td>\n",
       "    </tr>\n",
       "    <tr>\n",
       "      <th>3</th>\n",
       "      <td>i saw this film in a sneak preview ,  and it i...</td>\n",
       "      <td>1</td>\n",
       "      <td>[16, 227, 17, 28, 15, 5, 5174, 4070, 3, 4, 14,...</td>\n",
       "      <td>162</td>\n",
       "    </tr>\n",
       "    <tr>\n",
       "      <th>4</th>\n",
       "      <td>bill paxton has taken the true story of the 19...</td>\n",
       "      <td>1</td>\n",
       "      <td>[972, 5826, 58, 621, 1, 307, 76, 6, 1, 16605, ...</td>\n",
       "      <td>241</td>\n",
       "    </tr>\n",
       "  </tbody>\n",
       "</table>\n",
       "</div>"
      ],
      "text/plain": [
       "                                              review  sentiment  \\\n",
       "0  i went and saw this movie last night after bei...          1   \n",
       "1  actor turned director bill paxton follows up h...          1   \n",
       "2  as a recreational golfer with some knowledge o...          1   \n",
       "3  i saw this film in a sneak preview ,  and it i...          1   \n",
       "4  bill paxton has taken the true story of the 19...          1   \n",
       "\n",
       "                                          review_int  word_count  \n",
       "0  [16, 433, 4, 227, 17, 24, 254, 328, 114, 125, ...         170  \n",
       "1  [297, 672, 169, 972, 5826, 1119, 68, 37, 2424,...         421  \n",
       "2  [23, 5, 25748, 28252, 26, 61, 1859, 6, 1, 4005...         296  \n",
       "3  [16, 227, 17, 28, 15, 5, 5174, 4070, 3, 4, 14,...         162  \n",
       "4  [972, 5826, 58, 621, 1, 307, 76, 6, 1, 16605, ...         241  "
      ]
     },
     "execution_count": 28,
     "metadata": {},
     "output_type": "execute_result"
    }
   ],
   "source": [
    "review_data[:5]"
   ]
  },
  {
   "cell_type": "code",
   "execution_count": 29,
   "metadata": {
    "colab": {
     "base_uri": "https://localhost:8080/",
     "height": 315
    },
    "colab_type": "code",
    "id": "KGAZRAdPyblu",
    "outputId": "6d268116-c1c3-4be7-accc-22401739721e"
   },
   "outputs": [
    {
     "data": {
      "text/html": [
       "<div>\n",
       "<style scoped>\n",
       "    .dataframe tbody tr th:only-of-type {\n",
       "        vertical-align: middle;\n",
       "    }\n",
       "\n",
       "    .dataframe tbody tr th {\n",
       "        vertical-align: top;\n",
       "    }\n",
       "\n",
       "    .dataframe thead th {\n",
       "        text-align: right;\n",
       "    }\n",
       "</style>\n",
       "<table border=\"1\" class=\"dataframe\">\n",
       "  <thead>\n",
       "    <tr style=\"text-align: right;\">\n",
       "      <th></th>\n",
       "      <th>word_count</th>\n",
       "    </tr>\n",
       "  </thead>\n",
       "  <tbody>\n",
       "    <tr>\n",
       "      <th>count</th>\n",
       "      <td>50000.000000</td>\n",
       "    </tr>\n",
       "    <tr>\n",
       "      <th>mean</th>\n",
       "      <td>292.148960</td>\n",
       "    </tr>\n",
       "    <tr>\n",
       "      <th>std</th>\n",
       "      <td>217.394254</td>\n",
       "    </tr>\n",
       "    <tr>\n",
       "      <th>min</th>\n",
       "      <td>8.000000</td>\n",
       "    </tr>\n",
       "    <tr>\n",
       "      <th>25%</th>\n",
       "      <td>157.000000</td>\n",
       "    </tr>\n",
       "    <tr>\n",
       "      <th>50%</th>\n",
       "      <td>218.000000</td>\n",
       "    </tr>\n",
       "    <tr>\n",
       "      <th>75%</th>\n",
       "      <td>356.000000</td>\n",
       "    </tr>\n",
       "    <tr>\n",
       "      <th>max</th>\n",
       "      <td>3046.000000</td>\n",
       "    </tr>\n",
       "  </tbody>\n",
       "</table>\n",
       "</div>"
      ],
      "text/plain": [
       "         word_count\n",
       "count  50000.000000\n",
       "mean     292.148960\n",
       "std      217.394254\n",
       "min        8.000000\n",
       "25%      157.000000\n",
       "50%      218.000000\n",
       "75%      356.000000\n",
       "max     3046.000000"
      ]
     },
     "execution_count": 29,
     "metadata": {},
     "output_type": "execute_result"
    }
   ],
   "source": [
    "review_data[['word_count']].describe()"
   ]
  },
  {
   "cell_type": "code",
   "execution_count": null,
   "metadata": {
    "colab": {},
    "colab_type": "code",
    "id": "slcwR1BQyblw"
   },
   "outputs": [],
   "source": []
  },
  {
   "cell_type": "markdown",
   "metadata": {
    "colab_type": "raw",
    "id": "gpLLPLwUybly"
   },
   "source": []
  },
  {
   "cell_type": "code",
   "execution_count": null,
   "metadata": {
    "colab": {},
    "colab_type": "code",
    "id": "FcyOxXrjyblz"
   },
   "outputs": [],
   "source": []
  },
  {
   "cell_type": "markdown",
   "metadata": {
    "colab_type": "text",
    "id": "5d8WlOpAybl1"
   },
   "source": [
    "### Function for setting a constant sequence length\n",
    "        * Can also use masking layer in tensorflow"
   ]
  },
  {
   "cell_type": "code",
   "execution_count": 30,
   "metadata": {
    "colab": {},
    "colab_type": "code",
    "id": "pZa56FyRybl2"
   },
   "outputs": [],
   "source": [
    "import numpy as np"
   ]
  },
  {
   "cell_type": "code",
   "execution_count": 31,
   "metadata": {
    "colab": {},
    "colab_type": "code",
    "id": "dD9-tnWaybl4"
   },
   "outputs": [],
   "source": [
    "def seq_len(review, ntimesteps, start = False):\n",
    "    \"\"\"If start is False, only the last ntimesteps words are returned.\n",
    "        Else, the first ntimesteps words are returned.\"\"\"\n",
    "    \n",
    "    review_len = len(review)\n",
    "    \n",
    "    if review_len >= ntimesteps:\n",
    "        if not start:\n",
    "            return np.array(review[-ntimesteps:])\n",
    "        else: \n",
    "            return np.array(review[:ntimesteps])\n",
    "    else:\n",
    "        return np.array([0]*(ntimesteps-review_len) + review)\n",
    "        "
   ]
  },
  {
   "cell_type": "code",
   "execution_count": 32,
   "metadata": {
    "colab": {
     "base_uri": "https://localhost:8080/",
     "height": 35
    },
    "colab_type": "code",
    "id": "qUdGaitOybl6",
    "outputId": "d8195a32-017b-4341-90e8-d2fc33ec0ae7"
   },
   "outputs": [
    {
     "data": {
      "text/plain": [
       "array([0, 0, 0, 0, 2, 3, 4, 5, 6, 7])"
      ]
     },
     "execution_count": 32,
     "metadata": {},
     "output_type": "execute_result"
    }
   ],
   "source": [
    "seq_len(list(range(2,8)), 10)"
   ]
  },
  {
   "cell_type": "code",
   "execution_count": 33,
   "metadata": {
    "colab": {
     "base_uri": "https://localhost:8080/",
     "height": 35
    },
    "colab_type": "code",
    "id": "wD54X98Iybl_",
    "outputId": "0593b282-6bc8-4eb8-b5e4-0e8f83709881"
   },
   "outputs": [
    {
     "data": {
      "text/plain": [
       "array([10, 11, 12, 13, 14, 15, 16, 17, 18, 19])"
      ]
     },
     "execution_count": 33,
     "metadata": {},
     "output_type": "execute_result"
    }
   ],
   "source": [
    "seq_len(list(range(2,20)), 10)"
   ]
  },
  {
   "cell_type": "code",
   "execution_count": 34,
   "metadata": {
    "colab": {
     "base_uri": "https://localhost:8080/",
     "height": 35
    },
    "colab_type": "code",
    "id": "iO_0ZZUeybmF",
    "outputId": "c8e805ad-08b2-4359-bc17-41339cf29f4c"
   },
   "outputs": [
    {
     "data": {
      "text/plain": [
       "array([ 2,  3,  4,  5,  6,  7,  8,  9, 10, 11])"
      ]
     },
     "execution_count": 34,
     "metadata": {},
     "output_type": "execute_result"
    }
   ],
   "source": [
    "seq_len(list(range(2,20)), 10, start = True)"
   ]
  },
  {
   "cell_type": "markdown",
   "metadata": {
    "colab_type": "text",
    "id": "lh45WftlybmI"
   },
   "source": [
    "#### Applying seq_len function on the dataframe"
   ]
  },
  {
   "cell_type": "code",
   "execution_count": 35,
   "metadata": {
    "colab": {},
    "colab_type": "code",
    "id": "mzX_uDK6ybmJ"
   },
   "outputs": [],
   "source": [
    "# Number of times steps as the sequence length\n",
    "ntimesteps = 200"
   ]
  },
  {
   "cell_type": "code",
   "execution_count": 36,
   "metadata": {
    "colab": {},
    "colab_type": "code",
    "id": "MXwF1ideybmM"
   },
   "outputs": [],
   "source": [
    "# choosing the last set of words in a review if greater than sequence length/num.time steps whle padding with zero\n",
    "review_data['sequenced'] = review_data[['review_int']].applymap(lambda x: seq_len(x, ntimesteps)) "
   ]
  },
  {
   "cell_type": "code",
   "execution_count": 37,
   "metadata": {
    "colab": {
     "base_uri": "https://localhost:8080/",
     "height": 141
    },
    "colab_type": "code",
    "id": "tA86oaL_ybmW",
    "outputId": "80af2c80-1cc7-49f3-c57e-e458bf386d89"
   },
   "outputs": [
    {
     "data": {
      "text/html": [
       "<div>\n",
       "<style scoped>\n",
       "    .dataframe tbody tr th:only-of-type {\n",
       "        vertical-align: middle;\n",
       "    }\n",
       "\n",
       "    .dataframe tbody tr th {\n",
       "        vertical-align: top;\n",
       "    }\n",
       "\n",
       "    .dataframe thead th {\n",
       "        text-align: right;\n",
       "    }\n",
       "</style>\n",
       "<table border=\"1\" class=\"dataframe\">\n",
       "  <thead>\n",
       "    <tr style=\"text-align: right;\">\n",
       "      <th></th>\n",
       "      <th>review</th>\n",
       "      <th>sentiment</th>\n",
       "      <th>review_int</th>\n",
       "      <th>word_count</th>\n",
       "      <th>sequenced</th>\n",
       "    </tr>\n",
       "  </thead>\n",
       "  <tbody>\n",
       "    <tr>\n",
       "      <th>0</th>\n",
       "      <td>i went and saw this movie last night after bei...</td>\n",
       "      <td>1</td>\n",
       "      <td>[16, 433, 4, 227, 17, 24, 254, 328, 114, 125, ...</td>\n",
       "      <td>170</td>\n",
       "      <td>[0, 0, 0, 0, 0, 0, 0, 0, 0, 0, 0, 0, 0, 0, 0, ...</td>\n",
       "    </tr>\n",
       "    <tr>\n",
       "      <th>1</th>\n",
       "      <td>actor turned director bill paxton follows up h...</td>\n",
       "      <td>1</td>\n",
       "      <td>[297, 672, 169, 972, 5826, 1119, 68, 37, 2424,...</td>\n",
       "      <td>421</td>\n",
       "      <td>[1138, 7, 1, 3990, 2, 51, 8, 21, 61, 1506, 119...</td>\n",
       "    </tr>\n",
       "    <tr>\n",
       "      <th>2</th>\n",
       "      <td>as a recreational golfer with some knowledge o...</td>\n",
       "      <td>1</td>\n",
       "      <td>[23, 5, 25748, 28252, 26, 61, 1859, 6, 1, 4005...</td>\n",
       "      <td>296</td>\n",
       "      <td>[1, 533, 6, 1, 3144, 15072, 1507, 47, 20218, 4...</td>\n",
       "    </tr>\n",
       "  </tbody>\n",
       "</table>\n",
       "</div>"
      ],
      "text/plain": [
       "                                              review  sentiment  \\\n",
       "0  i went and saw this movie last night after bei...          1   \n",
       "1  actor turned director bill paxton follows up h...          1   \n",
       "2  as a recreational golfer with some knowledge o...          1   \n",
       "\n",
       "                                          review_int  word_count  \\\n",
       "0  [16, 433, 4, 227, 17, 24, 254, 328, 114, 125, ...         170   \n",
       "1  [297, 672, 169, 972, 5826, 1119, 68, 37, 2424,...         421   \n",
       "2  [23, 5, 25748, 28252, 26, 61, 1859, 6, 1, 4005...         296   \n",
       "\n",
       "                                           sequenced  \n",
       "0  [0, 0, 0, 0, 0, 0, 0, 0, 0, 0, 0, 0, 0, 0, 0, ...  \n",
       "1  [1138, 7, 1, 3990, 2, 51, 8, 21, 61, 1506, 119...  \n",
       "2  [1, 533, 6, 1, 3144, 15072, 1507, 47, 20218, 4...  "
      ]
     },
     "execution_count": 37,
     "metadata": {},
     "output_type": "execute_result"
    }
   ],
   "source": [
    "review_data[:3]"
   ]
  },
  {
   "cell_type": "code",
   "execution_count": 38,
   "metadata": {
    "colab": {
     "base_uri": "https://localhost:8080/",
     "height": 176
    },
    "colab_type": "code",
    "id": "igOinkkxybmY",
    "outputId": "1fc65797-9e4f-47be-84dc-5e7422f4984b"
   },
   "outputs": [
    {
     "data": {
      "text/plain": [
       "count    50000.0\n",
       "mean       200.0\n",
       "std          0.0\n",
       "min        200.0\n",
       "25%        200.0\n",
       "50%        200.0\n",
       "75%        200.0\n",
       "max        200.0\n",
       "Name: sequenced, dtype: float64"
      ]
     },
     "execution_count": 38,
     "metadata": {},
     "output_type": "execute_result"
    }
   ],
   "source": [
    "review_data['sequenced'].apply(len).describe()"
   ]
  },
  {
   "cell_type": "code",
   "execution_count": null,
   "metadata": {
    "colab": {},
    "colab_type": "code",
    "id": "nXPEKA-eybma"
   },
   "outputs": [],
   "source": []
  },
  {
   "cell_type": "markdown",
   "metadata": {
    "colab_type": "text",
    "id": "jUCuIxCMybmc"
   },
   "source": [
    "### Unique labels"
   ]
  },
  {
   "cell_type": "code",
   "execution_count": 39,
   "metadata": {
    "colab": {
     "base_uri": "https://localhost:8080/",
     "height": 35
    },
    "colab_type": "code",
    "id": "mK3NBk6Sybmd",
    "outputId": "c80ebdd8-f203-4a1f-95a0-54b45d58e799"
   },
   "outputs": [
    {
     "data": {
      "text/plain": [
       "array([1, 0])"
      ]
     },
     "execution_count": 39,
     "metadata": {},
     "output_type": "execute_result"
    }
   ],
   "source": [
    "y_unique = review_data['sentiment'].unique()\n",
    "y_unique"
   ]
  },
  {
   "cell_type": "markdown",
   "metadata": {
    "colab_type": "text",
    "id": "4CF_4ddHybmf"
   },
   "source": [
    "### Checking the counts of each label in case up/down-sampling is required"
   ]
  },
  {
   "cell_type": "code",
   "execution_count": 40,
   "metadata": {
    "colab": {
     "base_uri": "https://localhost:8080/",
     "height": 90
    },
    "colab_type": "code",
    "id": "hfpCBc09ybmf",
    "outputId": "7416f35a-33e2-4310-d37e-ab5f35c999c2"
   },
   "outputs": [
    {
     "data": {
      "text/plain": [
       "1    25000\n",
       "0    25000\n",
       "Name: sentiment, dtype: int64"
      ]
     },
     "execution_count": 40,
     "metadata": {},
     "output_type": "execute_result"
    }
   ],
   "source": [
    "review_data['sentiment'].value_counts()"
   ]
  },
  {
   "cell_type": "markdown",
   "metadata": {
    "colab_type": "text",
    "id": "P_nqegyHybmi"
   },
   "source": [
    "        * Equal counts of labels 1 and 0"
   ]
  },
  {
   "cell_type": "code",
   "execution_count": null,
   "metadata": {
    "colab": {},
    "colab_type": "code",
    "id": "bor6jwdDybmj"
   },
   "outputs": [],
   "source": []
  },
  {
   "cell_type": "markdown",
   "metadata": {
    "colab_type": "text",
    "id": "K3SQOJWzybmm"
   },
   "source": [
    "### Splitting into train and test dataframes       "
   ]
  },
  {
   "cell_type": "code",
   "execution_count": 41,
   "metadata": {
    "colab": {},
    "colab_type": "code",
    "id": "ilVPTprCybmn"
   },
   "outputs": [],
   "source": [
    "train_df = review_data.iloc[:40000]\n",
    "test_df = review_data.iloc[40000:]"
   ]
  },
  {
   "cell_type": "code",
   "execution_count": 42,
   "metadata": {
    "colab": {
     "base_uri": "https://localhost:8080/",
     "height": 35
    },
    "colab_type": "code",
    "id": "8btZrGbMybmo",
    "outputId": "ebf2c0a3-676a-4c2e-8a3f-b3b807f04069"
   },
   "outputs": [
    {
     "data": {
      "text/plain": [
       "40000"
      ]
     },
     "execution_count": 42,
     "metadata": {},
     "output_type": "execute_result"
    }
   ],
   "source": [
    "len(train_df)"
   ]
  },
  {
   "cell_type": "code",
   "execution_count": 43,
   "metadata": {
    "colab": {
     "base_uri": "https://localhost:8080/",
     "height": 35
    },
    "colab_type": "code",
    "id": "0DSHs9gVybmq",
    "outputId": "7d3494cb-3c3c-42e3-e2e9-0a6efc1ef34f"
   },
   "outputs": [
    {
     "data": {
      "text/plain": [
       "10000"
      ]
     },
     "execution_count": 43,
     "metadata": {},
     "output_type": "execute_result"
    }
   ],
   "source": [
    "len(test_df)"
   ]
  },
  {
   "cell_type": "code",
   "execution_count": 44,
   "metadata": {
    "colab": {
     "base_uri": "https://localhost:8080/",
     "height": 70
    },
    "colab_type": "code",
    "id": "uiligyjVybmr",
    "outputId": "949f87e0-69cf-42f6-c239-6e2821a5e7f6"
   },
   "outputs": [
    {
     "data": {
      "text/plain": [
       "1    25000\n",
       "0    15000\n",
       "Name: sentiment, dtype: int64"
      ]
     },
     "execution_count": 44,
     "metadata": {},
     "output_type": "execute_result"
    }
   ],
   "source": [
    "train_df['sentiment'].value_counts()"
   ]
  },
  {
   "cell_type": "code",
   "execution_count": 45,
   "metadata": {
    "colab": {
     "base_uri": "https://localhost:8080/",
     "height": 52
    },
    "colab_type": "code",
    "id": "9cObOMQzybmt",
    "outputId": "03efcbd0-f46d-4be4-a749-686d4c84d003"
   },
   "outputs": [
    {
     "data": {
      "text/plain": [
       "0    10000\n",
       "Name: sentiment, dtype: int64"
      ]
     },
     "execution_count": 45,
     "metadata": {},
     "output_type": "execute_result"
    }
   ],
   "source": [
    "test_df['sentiment'].value_counts()"
   ]
  },
  {
   "cell_type": "markdown",
   "metadata": {
    "colab_type": "text",
    "id": "OUp7BS_Uybmw"
   },
   "source": [
    "##### Shuffling is required"
   ]
  },
  {
   "cell_type": "code",
   "execution_count": 46,
   "metadata": {
    "colab": {
     "base_uri": "https://localhost:8080/",
     "height": 202
    },
    "colab_type": "code",
    "id": "3IAyPybyybmx",
    "outputId": "f53d71e6-384c-4eea-dbce-7126257dc14f"
   },
   "outputs": [
    {
     "data": {
      "text/html": [
       "<div>\n",
       "<style scoped>\n",
       "    .dataframe tbody tr th:only-of-type {\n",
       "        vertical-align: middle;\n",
       "    }\n",
       "\n",
       "    .dataframe tbody tr th {\n",
       "        vertical-align: top;\n",
       "    }\n",
       "\n",
       "    .dataframe thead th {\n",
       "        text-align: right;\n",
       "    }\n",
       "</style>\n",
       "<table border=\"1\" class=\"dataframe\">\n",
       "  <thead>\n",
       "    <tr style=\"text-align: right;\">\n",
       "      <th></th>\n",
       "      <th>review</th>\n",
       "      <th>sentiment</th>\n",
       "      <th>review_int</th>\n",
       "      <th>word_count</th>\n",
       "      <th>sequenced</th>\n",
       "    </tr>\n",
       "  </thead>\n",
       "  <tbody>\n",
       "    <tr>\n",
       "      <th>0</th>\n",
       "      <td>i went and saw this movie last night after bei...</td>\n",
       "      <td>1</td>\n",
       "      <td>[16, 433, 4, 227, 17, 24, 254, 328, 114, 125, ...</td>\n",
       "      <td>170</td>\n",
       "      <td>[0, 0, 0, 0, 0, 0, 0, 0, 0, 0, 0, 0, 0, 0, 0, ...</td>\n",
       "    </tr>\n",
       "    <tr>\n",
       "      <th>1</th>\n",
       "      <td>actor turned director bill paxton follows up h...</td>\n",
       "      <td>1</td>\n",
       "      <td>[297, 672, 169, 972, 5826, 1119, 68, 37, 2424,...</td>\n",
       "      <td>421</td>\n",
       "      <td>[1138, 7, 1, 3990, 2, 51, 8, 21, 61, 1506, 119...</td>\n",
       "    </tr>\n",
       "    <tr>\n",
       "      <th>2</th>\n",
       "      <td>as a recreational golfer with some knowledge o...</td>\n",
       "      <td>1</td>\n",
       "      <td>[23, 5, 25748, 28252, 26, 61, 1859, 6, 1, 4005...</td>\n",
       "      <td>296</td>\n",
       "      <td>[1, 533, 6, 1, 3144, 15072, 1507, 47, 20218, 4...</td>\n",
       "    </tr>\n",
       "    <tr>\n",
       "      <th>3</th>\n",
       "      <td>i saw this film in a sneak preview ,  and it i...</td>\n",
       "      <td>1</td>\n",
       "      <td>[16, 227, 17, 28, 15, 5, 5174, 4070, 3, 4, 14,...</td>\n",
       "      <td>162</td>\n",
       "      <td>[0, 0, 0, 0, 0, 0, 0, 0, 0, 0, 0, 0, 0, 0, 0, ...</td>\n",
       "    </tr>\n",
       "    <tr>\n",
       "      <th>4</th>\n",
       "      <td>bill paxton has taken the true story of the 19...</td>\n",
       "      <td>1</td>\n",
       "      <td>[972, 5826, 58, 621, 1, 307, 76, 6, 1, 16605, ...</td>\n",
       "      <td>241</td>\n",
       "      <td>[1, 421, 9449, 1059, 4, 2553, 696, 1, 3275, 10...</td>\n",
       "    </tr>\n",
       "  </tbody>\n",
       "</table>\n",
       "</div>"
      ],
      "text/plain": [
       "                                              review  sentiment  \\\n",
       "0  i went and saw this movie last night after bei...          1   \n",
       "1  actor turned director bill paxton follows up h...          1   \n",
       "2  as a recreational golfer with some knowledge o...          1   \n",
       "3  i saw this film in a sneak preview ,  and it i...          1   \n",
       "4  bill paxton has taken the true story of the 19...          1   \n",
       "\n",
       "                                          review_int  word_count  \\\n",
       "0  [16, 433, 4, 227, 17, 24, 254, 328, 114, 125, ...         170   \n",
       "1  [297, 672, 169, 972, 5826, 1119, 68, 37, 2424,...         421   \n",
       "2  [23, 5, 25748, 28252, 26, 61, 1859, 6, 1, 4005...         296   \n",
       "3  [16, 227, 17, 28, 15, 5, 5174, 4070, 3, 4, 14,...         162   \n",
       "4  [972, 5826, 58, 621, 1, 307, 76, 6, 1, 16605, ...         241   \n",
       "\n",
       "                                           sequenced  \n",
       "0  [0, 0, 0, 0, 0, 0, 0, 0, 0, 0, 0, 0, 0, 0, 0, ...  \n",
       "1  [1138, 7, 1, 3990, 2, 51, 8, 21, 61, 1506, 119...  \n",
       "2  [1, 533, 6, 1, 3144, 15072, 1507, 47, 20218, 4...  \n",
       "3  [0, 0, 0, 0, 0, 0, 0, 0, 0, 0, 0, 0, 0, 0, 0, ...  \n",
       "4  [1, 421, 9449, 1059, 4, 2553, 696, 1, 3275, 10...  "
      ]
     },
     "execution_count": 46,
     "metadata": {},
     "output_type": "execute_result"
    }
   ],
   "source": [
    "review_data.head(5)"
   ]
  },
  {
   "cell_type": "code",
   "execution_count": 47,
   "metadata": {
    "colab": {},
    "colab_type": "code",
    "id": "zKsFrzuqybmz"
   },
   "outputs": [],
   "source": [
    "random_seed = 123"
   ]
  },
  {
   "cell_type": "code",
   "execution_count": 48,
   "metadata": {
    "colab": {},
    "colab_type": "code",
    "id": "w7R3Iul2ybm0"
   },
   "outputs": [],
   "source": [
    "review_data = review_data.sample(frac = 1, replace = False, random_state=random_seed)"
   ]
  },
  {
   "cell_type": "code",
   "execution_count": 49,
   "metadata": {
    "colab": {
     "base_uri": "https://localhost:8080/",
     "height": 202
    },
    "colab_type": "code",
    "id": "PeyXo0rKybm3",
    "outputId": "14069874-5a39-454d-8575-49d108cb710b"
   },
   "outputs": [
    {
     "data": {
      "text/html": [
       "<div>\n",
       "<style scoped>\n",
       "    .dataframe tbody tr th:only-of-type {\n",
       "        vertical-align: middle;\n",
       "    }\n",
       "\n",
       "    .dataframe tbody tr th {\n",
       "        vertical-align: top;\n",
       "    }\n",
       "\n",
       "    .dataframe thead th {\n",
       "        text-align: right;\n",
       "    }\n",
       "</style>\n",
       "<table border=\"1\" class=\"dataframe\">\n",
       "  <thead>\n",
       "    <tr style=\"text-align: right;\">\n",
       "      <th></th>\n",
       "      <th>review</th>\n",
       "      <th>sentiment</th>\n",
       "      <th>review_int</th>\n",
       "      <th>word_count</th>\n",
       "      <th>sequenced</th>\n",
       "    </tr>\n",
       "  </thead>\n",
       "  <tbody>\n",
       "    <tr>\n",
       "      <th>11872</th>\n",
       "      <td>sherlock holmes  ( basil rathbone )  begins th...</td>\n",
       "      <td>1</td>\n",
       "      <td>[6186, 2411, 30, 7986, 7891, 29, 847, 17, 76, ...</td>\n",
       "      <td>393</td>\n",
       "      <td>[2403, 24571, 2, 20, 39, 3823, 85, 57, 24571, ...</td>\n",
       "    </tr>\n",
       "    <tr>\n",
       "      <th>40828</th>\n",
       "      <td>probably the worst bollywood film i ' ve seen ...</td>\n",
       "      <td>0</td>\n",
       "      <td>[256, 1, 265, 2880, 28, 16, 8, 153, 124, 2, 12...</td>\n",
       "      <td>179</td>\n",
       "      <td>[0, 0, 0, 0, 0, 0, 0, 0, 0, 0, 0, 0, 0, 0, 0, ...</td>\n",
       "    </tr>\n",
       "    <tr>\n",
       "      <th>36400</th>\n",
       "      <td>a bit quirky and bordering bad taste ;  but in...</td>\n",
       "      <td>1</td>\n",
       "      <td>[5, 241, 2646, 4, 12599, 88, 1288, 123, 27, 11...</td>\n",
       "      <td>174</td>\n",
       "      <td>[0, 0, 0, 0, 0, 0, 0, 0, 0, 0, 0, 0, 0, 0, 0, ...</td>\n",
       "    </tr>\n",
       "    <tr>\n",
       "      <th>5166</th>\n",
       "      <td>lackawanna blues is a drama through and throug...</td>\n",
       "      <td>1</td>\n",
       "      <td>[18071, 3907, 10, 5, 464, 159, 4, 159, 2, 14, ...</td>\n",
       "      <td>231</td>\n",
       "      <td>[10, 5249, 7, 23, 7483, 45, 42, 47, 135, 54, 3...</td>\n",
       "    </tr>\n",
       "    <tr>\n",
       "      <th>30273</th>\n",
       "      <td>one more of those brilliant young men who went...</td>\n",
       "      <td>1</td>\n",
       "      <td>[39, 65, 6, 162, 529, 204, 356, 47, 433, 42, 5...</td>\n",
       "      <td>134</td>\n",
       "      <td>[0, 0, 0, 0, 0, 0, 0, 0, 0, 0, 0, 0, 0, 0, 0, ...</td>\n",
       "    </tr>\n",
       "  </tbody>\n",
       "</table>\n",
       "</div>"
      ],
      "text/plain": [
       "                                                  review  sentiment  \\\n",
       "11872  sherlock holmes  ( basil rathbone )  begins th...          1   \n",
       "40828  probably the worst bollywood film i ' ve seen ...          0   \n",
       "36400  a bit quirky and bordering bad taste ;  but in...          1   \n",
       "5166   lackawanna blues is a drama through and throug...          1   \n",
       "30273  one more of those brilliant young men who went...          1   \n",
       "\n",
       "                                              review_int  word_count  \\\n",
       "11872  [6186, 2411, 30, 7986, 7891, 29, 847, 17, 76, ...         393   \n",
       "40828  [256, 1, 265, 2880, 28, 16, 8, 153, 124, 2, 12...         179   \n",
       "36400  [5, 241, 2646, 4, 12599, 88, 1288, 123, 27, 11...         174   \n",
       "5166   [18071, 3907, 10, 5, 464, 159, 4, 159, 2, 14, ...         231   \n",
       "30273  [39, 65, 6, 162, 529, 204, 356, 47, 433, 42, 5...         134   \n",
       "\n",
       "                                               sequenced  \n",
       "11872  [2403, 24571, 2, 20, 39, 3823, 85, 57, 24571, ...  \n",
       "40828  [0, 0, 0, 0, 0, 0, 0, 0, 0, 0, 0, 0, 0, 0, 0, ...  \n",
       "36400  [0, 0, 0, 0, 0, 0, 0, 0, 0, 0, 0, 0, 0, 0, 0, ...  \n",
       "5166   [10, 5249, 7, 23, 7483, 45, 42, 47, 135, 54, 3...  \n",
       "30273  [0, 0, 0, 0, 0, 0, 0, 0, 0, 0, 0, 0, 0, 0, 0, ...  "
      ]
     },
     "execution_count": 49,
     "metadata": {},
     "output_type": "execute_result"
    }
   ],
   "source": [
    "review_data.head()"
   ]
  },
  {
   "cell_type": "code",
   "execution_count": 50,
   "metadata": {
    "colab": {},
    "colab_type": "code",
    "id": "jSviInJ3ybm4"
   },
   "outputs": [],
   "source": [
    "train_df = review_data.iloc[:40000]\n",
    "test_df = review_data.iloc[40000:]"
   ]
  },
  {
   "cell_type": "code",
   "execution_count": 51,
   "metadata": {
    "colab": {
     "base_uri": "https://localhost:8080/",
     "height": 70
    },
    "colab_type": "code",
    "id": "dvzAyxnAybm7",
    "outputId": "a17c48f4-a0a9-4704-8da0-413dc915bbee"
   },
   "outputs": [
    {
     "data": {
      "text/plain": [
       "0    20039\n",
       "1    19961\n",
       "Name: sentiment, dtype: int64"
      ]
     },
     "execution_count": 51,
     "metadata": {},
     "output_type": "execute_result"
    }
   ],
   "source": [
    "train_df['sentiment'].value_counts()"
   ]
  },
  {
   "cell_type": "code",
   "execution_count": 52,
   "metadata": {
    "colab": {
     "base_uri": "https://localhost:8080/",
     "height": 70
    },
    "colab_type": "code",
    "id": "Pdly7mdsybm9",
    "outputId": "8171d61d-dd42-47c0-ce6c-b657897f00f5"
   },
   "outputs": [
    {
     "data": {
      "text/plain": [
       "1    5039\n",
       "0    4961\n",
       "Name: sentiment, dtype: int64"
      ]
     },
     "execution_count": 52,
     "metadata": {},
     "output_type": "execute_result"
    }
   ],
   "source": [
    "test_df['sentiment'].value_counts()"
   ]
  },
  {
   "cell_type": "code",
   "execution_count": null,
   "metadata": {
    "colab": {},
    "colab_type": "code",
    "id": "cRjqp30fybm_"
   },
   "outputs": [],
   "source": []
  },
  {
   "cell_type": "code",
   "execution_count": 53,
   "metadata": {
    "colab": {
     "base_uri": "https://localhost:8080/",
     "height": 141
    },
    "colab_type": "code",
    "id": "vrG-6RN5ybnB",
    "outputId": "1b178ce7-2852-4792-abcb-b2884ab38736"
   },
   "outputs": [
    {
     "data": {
      "text/html": [
       "<div>\n",
       "<style scoped>\n",
       "    .dataframe tbody tr th:only-of-type {\n",
       "        vertical-align: middle;\n",
       "    }\n",
       "\n",
       "    .dataframe tbody tr th {\n",
       "        vertical-align: top;\n",
       "    }\n",
       "\n",
       "    .dataframe thead th {\n",
       "        text-align: right;\n",
       "    }\n",
       "</style>\n",
       "<table border=\"1\" class=\"dataframe\">\n",
       "  <thead>\n",
       "    <tr style=\"text-align: right;\">\n",
       "      <th></th>\n",
       "      <th>review</th>\n",
       "      <th>sentiment</th>\n",
       "      <th>review_int</th>\n",
       "      <th>word_count</th>\n",
       "      <th>sequenced</th>\n",
       "    </tr>\n",
       "  </thead>\n",
       "  <tbody>\n",
       "    <tr>\n",
       "      <th>11872</th>\n",
       "      <td>sherlock holmes  ( basil rathbone )  begins th...</td>\n",
       "      <td>1</td>\n",
       "      <td>[6186, 2411, 30, 7986, 7891, 29, 847, 17, 76, ...</td>\n",
       "      <td>393</td>\n",
       "      <td>[2403, 24571, 2, 20, 39, 3823, 85, 57, 24571, ...</td>\n",
       "    </tr>\n",
       "    <tr>\n",
       "      <th>40828</th>\n",
       "      <td>probably the worst bollywood film i ' ve seen ...</td>\n",
       "      <td>0</td>\n",
       "      <td>[256, 1, 265, 2880, 28, 16, 8, 153, 124, 2, 12...</td>\n",
       "      <td>179</td>\n",
       "      <td>[0, 0, 0, 0, 0, 0, 0, 0, 0, 0, 0, 0, 0, 0, 0, ...</td>\n",
       "    </tr>\n",
       "    <tr>\n",
       "      <th>36400</th>\n",
       "      <td>a bit quirky and bordering bad taste ;  but in...</td>\n",
       "      <td>1</td>\n",
       "      <td>[5, 241, 2646, 4, 12599, 88, 1288, 123, 27, 11...</td>\n",
       "      <td>174</td>\n",
       "      <td>[0, 0, 0, 0, 0, 0, 0, 0, 0, 0, 0, 0, 0, 0, 0, ...</td>\n",
       "    </tr>\n",
       "  </tbody>\n",
       "</table>\n",
       "</div>"
      ],
      "text/plain": [
       "                                                  review  sentiment  \\\n",
       "11872  sherlock holmes  ( basil rathbone )  begins th...          1   \n",
       "40828  probably the worst bollywood film i ' ve seen ...          0   \n",
       "36400  a bit quirky and bordering bad taste ;  but in...          1   \n",
       "\n",
       "                                              review_int  word_count  \\\n",
       "11872  [6186, 2411, 30, 7986, 7891, 29, 847, 17, 76, ...         393   \n",
       "40828  [256, 1, 265, 2880, 28, 16, 8, 153, 124, 2, 12...         179   \n",
       "36400  [5, 241, 2646, 4, 12599, 88, 1288, 123, 27, 11...         174   \n",
       "\n",
       "                                               sequenced  \n",
       "11872  [2403, 24571, 2, 20, 39, 3823, 85, 57, 24571, ...  \n",
       "40828  [0, 0, 0, 0, 0, 0, 0, 0, 0, 0, 0, 0, 0, 0, 0, ...  \n",
       "36400  [0, 0, 0, 0, 0, 0, 0, 0, 0, 0, 0, 0, 0, 0, 0, ...  "
      ]
     },
     "execution_count": 53,
     "metadata": {},
     "output_type": "execute_result"
    }
   ],
   "source": [
    "train_df[:3]"
   ]
  },
  {
   "cell_type": "code",
   "execution_count": 54,
   "metadata": {
    "colab": {
     "base_uri": "https://localhost:8080/",
     "height": 141
    },
    "colab_type": "code",
    "id": "6orFd98IybnE",
    "outputId": "61559b1a-0bb6-4e31-d3c3-52d38374e9ea"
   },
   "outputs": [
    {
     "data": {
      "text/html": [
       "<div>\n",
       "<style scoped>\n",
       "    .dataframe tbody tr th:only-of-type {\n",
       "        vertical-align: middle;\n",
       "    }\n",
       "\n",
       "    .dataframe tbody tr th {\n",
       "        vertical-align: top;\n",
       "    }\n",
       "\n",
       "    .dataframe thead th {\n",
       "        text-align: right;\n",
       "    }\n",
       "</style>\n",
       "<table border=\"1\" class=\"dataframe\">\n",
       "  <thead>\n",
       "    <tr style=\"text-align: right;\">\n",
       "      <th></th>\n",
       "      <th>review</th>\n",
       "      <th>sentiment</th>\n",
       "      <th>review_int</th>\n",
       "      <th>word_count</th>\n",
       "      <th>sequenced</th>\n",
       "    </tr>\n",
       "  </thead>\n",
       "  <tbody>\n",
       "    <tr>\n",
       "      <th>1554</th>\n",
       "      <td>if you listen to ween  ( the pod ,  god / sata...</td>\n",
       "      <td>1</td>\n",
       "      <td>[57, 31, 1661, 7, 64534, 30, 1, 9630, 3, 519, ...</td>\n",
       "      <td>190</td>\n",
       "      <td>[0, 0, 0, 0, 0, 0, 0, 0, 0, 0, 57, 31, 1661, 7...</td>\n",
       "    </tr>\n",
       "    <tr>\n",
       "      <th>33704</th>\n",
       "      <td>after seeing jeremy brett as sherlock holmes ,...</td>\n",
       "      <td>1</td>\n",
       "      <td>[114, 334, 3644, 7538, 23, 6186, 2411, 3, 69, ...</td>\n",
       "      <td>184</td>\n",
       "      <td>[0, 0, 0, 0, 0, 0, 0, 0, 0, 0, 0, 0, 0, 0, 0, ...</td>\n",
       "    </tr>\n",
       "    <tr>\n",
       "      <th>23967</th>\n",
       "      <td>the cast of  \" all that \"  returns for good hu...</td>\n",
       "      <td>0</td>\n",
       "      <td>[1, 195, 6, 20, 42, 18, 20, 1644, 25, 62, 477,...</td>\n",
       "      <td>210</td>\n",
       "      <td>[477, 15, 1, 20, 62, 14063, 20, 5, 291, 756, 7...</td>\n",
       "    </tr>\n",
       "  </tbody>\n",
       "</table>\n",
       "</div>"
      ],
      "text/plain": [
       "                                                  review  sentiment  \\\n",
       "1554   if you listen to ween  ( the pod ,  god / sata...          1   \n",
       "33704  after seeing jeremy brett as sherlock holmes ,...          1   \n",
       "23967  the cast of  \" all that \"  returns for good hu...          0   \n",
       "\n",
       "                                              review_int  word_count  \\\n",
       "1554   [57, 31, 1661, 7, 64534, 30, 1, 9630, 3, 519, ...         190   \n",
       "33704  [114, 334, 3644, 7538, 23, 6186, 2411, 3, 69, ...         184   \n",
       "23967  [1, 195, 6, 20, 42, 18, 20, 1644, 25, 62, 477,...         210   \n",
       "\n",
       "                                               sequenced  \n",
       "1554   [0, 0, 0, 0, 0, 0, 0, 0, 0, 0, 57, 31, 1661, 7...  \n",
       "33704  [0, 0, 0, 0, 0, 0, 0, 0, 0, 0, 0, 0, 0, 0, 0, ...  \n",
       "23967  [477, 15, 1, 20, 62, 14063, 20, 5, 291, 756, 7...  "
      ]
     },
     "execution_count": 54,
     "metadata": {},
     "output_type": "execute_result"
    }
   ],
   "source": [
    "test_df[:3]"
   ]
  },
  {
   "cell_type": "code",
   "execution_count": null,
   "metadata": {
    "colab": {},
    "colab_type": "code",
    "id": "tICT46yiybnG"
   },
   "outputs": [],
   "source": []
  },
  {
   "cell_type": "markdown",
   "metadata": {
    "colab_type": "text",
    "id": "17u3UIAUybnH"
   },
   "source": [
    "### Building the neural network"
   ]
  },
  {
   "cell_type": "code",
   "execution_count": 55,
   "metadata": {
    "colab": {
     "base_uri": "https://localhost:8080/",
     "height": 603
    },
    "colab_type": "code",
    "id": "sDzCRZ9519_s",
    "outputId": "1d759b93-c704-4784-b421-78135df14683"
   },
   "outputs": [],
   "source": [
    "#!pip install tensorflow==2.0.0-alpha0"
   ]
  },
  {
   "cell_type": "code",
   "execution_count": 56,
   "metadata": {
    "colab": {},
    "colab_type": "code",
    "id": "6fkpIq6_ybnH"
   },
   "outputs": [],
   "source": [
    "# version 2.0.0\n",
    "import tensorflow as tf"
   ]
  },
  {
   "cell_type": "code",
   "execution_count": null,
   "metadata": {
    "colab": {},
    "colab_type": "code",
    "id": "Py2B1G7EybnK"
   },
   "outputs": [],
   "source": []
  },
  {
   "cell_type": "markdown",
   "metadata": {
    "colab_type": "text",
    "id": "ixDw8WPCybnL"
   },
   "source": [
    "#### Building a Stateful LSTM Model in Keras"
   ]
  },
  {
   "cell_type": "code",
   "execution_count": 82,
   "metadata": {
    "colab": {},
    "colab_type": "code",
    "id": "t6yfrpA4ybnM"
   },
   "outputs": [],
   "source": [
    "model = tf.keras.Sequential()"
   ]
  },
  {
   "cell_type": "code",
   "execution_count": 83,
   "metadata": {
    "colab": {
     "base_uri": "https://localhost:8080/",
     "height": 35
    },
    "colab_type": "code",
    "id": "Q4wbT9tVybnN",
    "outputId": "5c2689e7-dd26-4d14-cdd8-8af61b9f6946"
   },
   "outputs": [
    {
     "name": "stdout",
     "output_type": "stream",
     "text": [
      "<tensorflow.python.keras.engine.sequential.Sequential object at 0x7fdfd276c8d0>\n"
     ]
    }
   ],
   "source": [
    "batch_size = 100\n",
    "\n",
    "# Input layer\n",
    "model.add(tf.keras.layers.Input(shape = (ntimesteps,), batch_size = batch_size, dtype = tf.int32, name = 'input_x'))\n",
    "print(model)"
   ]
  },
  {
   "cell_type": "code",
   "execution_count": 84,
   "metadata": {
    "colab": {
     "base_uri": "https://localhost:8080/",
     "height": 35
    },
    "colab_type": "code",
    "id": "sxFdb_0mybnR",
    "outputId": "320ce27a-4ba4-47d7-e7ac-c6c8aed5d9e7"
   },
   "outputs": [
    {
     "name": "stdout",
     "output_type": "stream",
     "text": [
      "<tensorflow.python.keras.engine.sequential.Sequential object at 0x7fdfd276c8d0>\n"
     ]
    }
   ],
   "source": [
    "# Embedding layer. input_dim = n_unique_words + 1\n",
    "embed_size = 50\n",
    "model.add(tf.keras.layers.Embedding(input_dim = n_unique_words+1, output_dim = embed_size, input_length=ntimesteps, \\\n",
    "                                    name = 'embed_x'))\n",
    "print(model)"
   ]
  },
  {
   "cell_type": "code",
   "execution_count": null,
   "metadata": {
    "colab": {},
    "colab_type": "code",
    "id": "6HQsLtvxybnT"
   },
   "outputs": [],
   "source": []
  },
  {
   "cell_type": "code",
   "execution_count": 85,
   "metadata": {
    "colab": {},
    "colab_type": "code",
    "id": "t7wfGyydybnU"
   },
   "outputs": [],
   "source": [
    "# Checking for embedding\n",
    "model.compile('rmsprop', 'mse')\n",
    "test_output = model.predict(train_df.iloc[0]['sequenced'].reshape(1,ntimesteps)) \n",
    "# reshape is important. Data needs to be of the format (batch_size, ntimesteps)\n",
    "assert test_output.shape == (1, ntimesteps, embed_size)"
   ]
  },
  {
   "cell_type": "code",
   "execution_count": null,
   "metadata": {
    "colab": {},
    "colab_type": "code",
    "id": "VbXlg83gybnV"
   },
   "outputs": [],
   "source": []
  },
  {
   "cell_type": "markdown",
   "metadata": {
    "colab_type": "text",
    "id": "2MD7n3rkybnY"
   },
   "source": [
    "##### LSTM layer with output dropout and stateful = True"
   ]
  },
  {
   "cell_type": "code",
   "execution_count": 86,
   "metadata": {
    "colab": {
     "base_uri": "https://localhost:8080/",
     "height": 108
    },
    "colab_type": "code",
    "id": "-6vXIIlyybnY",
    "outputId": "c942fbad-e7d0-4aa1-87cd-1478437ad9fd"
   },
   "outputs": [],
   "source": [
    "dropout = 0.5\n",
    "model.add(tf.keras.layers.LSTM(units = 64, batch_input_shape = (batch_size, ntimesteps, embed_size),\n",
    "                               dropout =  dropout, stateful = False, name = 'lstm_64', \n",
    "                              kernel_regularizer=tf.keras.regularizers.l2(l=0.01))) \n",
    "# return_sequences = True if adding another LSTM layer"
   ]
  },
  {
   "cell_type": "code",
   "execution_count": null,
   "metadata": {
    "colab": {},
    "colab_type": "code",
    "id": "LuS9iv9bybnZ"
   },
   "outputs": [],
   "source": []
  },
  {
   "cell_type": "code",
   "execution_count": null,
   "metadata": {
    "colab": {},
    "colab_type": "code",
    "id": "-TvKZujdybnb"
   },
   "outputs": [],
   "source": []
  },
  {
   "cell_type": "markdown",
   "metadata": {
    "colab_type": "text",
    "id": "l-ijbdzPybnc"
   },
   "source": [
    "##### Output layer with predicted probability"
   ]
  },
  {
   "cell_type": "code",
   "execution_count": 87,
   "metadata": {
    "colab": {},
    "colab_type": "code",
    "id": "1-29y_Lhybnc"
   },
   "outputs": [],
   "source": [
    "model.add(tf.keras.layers.Dense(units = 1, activation = tf.nn.sigmoid, name = 'predicted'))"
   ]
  },
  {
   "cell_type": "code",
   "execution_count": null,
   "metadata": {
    "colab": {},
    "colab_type": "code",
    "id": "-Lf9TlPKybne"
   },
   "outputs": [],
   "source": []
  },
  {
   "cell_type": "markdown",
   "metadata": {
    "colab_type": "text",
    "id": "3An3nHL4ybnf"
   },
   "source": [
    "##### Compiling"
   ]
  },
  {
   "cell_type": "code",
   "execution_count": 88,
   "metadata": {
    "colab": {},
    "colab_type": "code",
    "id": "ISHJkYvrybnf"
   },
   "outputs": [],
   "source": [
    "model.compile(optimizer = tf.optimizers.Adam(learning_rate=0.001), loss = tf.keras.losses.binary_crossentropy, metrics = ['accuracy'])"
   ]
  },
  {
   "cell_type": "code",
   "execution_count": null,
   "metadata": {
    "colab": {},
    "colab_type": "code",
    "id": "WllW73URybni"
   },
   "outputs": [],
   "source": []
  },
  {
   "cell_type": "markdown",
   "metadata": {
    "colab_type": "text",
    "id": "qnSj4JfDybnk"
   },
   "source": [
    "##### Testing the output of the layer "
   ]
  },
  {
   "cell_type": "code",
   "execution_count": 89,
   "metadata": {
    "colab": {},
    "colab_type": "code",
    "id": "CoFvqR91ybnl"
   },
   "outputs": [],
   "source": [
    "test = [x for x in train_df.iloc[0:batch_size]['sequenced'].values]"
   ]
  },
  {
   "cell_type": "code",
   "execution_count": 90,
   "metadata": {
    "colab": {
     "base_uri": "https://localhost:8080/",
     "height": 194
    },
    "colab_type": "code",
    "id": "Iwf5hbwyybno",
    "outputId": "f6ad4301-04de-4ce1-f3c1-43fd73f2bee3"
   },
   "outputs": [
    {
     "data": {
      "text/plain": [
       "array([[0.49884742],\n",
       "       [0.50319916],\n",
       "       [0.5022807 ],\n",
       "       [0.50312054],\n",
       "       [0.49897352],\n",
       "       [0.50171447],\n",
       "       [0.498179  ],\n",
       "       [0.50145274],\n",
       "       [0.49652454],\n",
       "       [0.5027386 ]], dtype=float32)"
      ]
     },
     "execution_count": 90,
     "metadata": {},
     "output_type": "execute_result"
    }
   ],
   "source": [
    "model.predict(np.array(test))[:10]"
   ]
  },
  {
   "cell_type": "code",
   "execution_count": null,
   "metadata": {
    "colab": {},
    "colab_type": "code",
    "id": "uPwTwNXDybnp"
   },
   "outputs": [],
   "source": []
  },
  {
   "cell_type": "markdown",
   "metadata": {
    "colab_type": "text",
    "id": "EWe_ZDuOybns"
   },
   "source": [
    "##### Fitting"
   ]
  },
  {
   "cell_type": "code",
   "execution_count": 66,
   "metadata": {
    "colab": {
     "base_uri": "https://localhost:8080/",
     "height": 35
    },
    "colab_type": "code",
    "id": "Sm9wyUgAybnt",
    "outputId": "9c1354c9-d8a2-4015-f24e-de03606ac1bd"
   },
   "outputs": [
    {
     "data": {
      "text/plain": [
       "(40000, 200)"
      ]
     },
     "execution_count": 66,
     "metadata": {},
     "output_type": "execute_result"
    }
   ],
   "source": [
    "train_X = np.array([x for x in train_df['sequenced'].values])\n",
    "train_X.shape"
   ]
  },
  {
   "cell_type": "code",
   "execution_count": 67,
   "metadata": {
    "colab": {
     "base_uri": "https://localhost:8080/",
     "height": 35
    },
    "colab_type": "code",
    "id": "Xl1QWJsPybnx",
    "outputId": "976d7bcc-e0bd-426b-cc0f-41aa004fc08e"
   },
   "outputs": [
    {
     "data": {
      "text/plain": [
       "(40000,)"
      ]
     },
     "execution_count": 67,
     "metadata": {},
     "output_type": "execute_result"
    }
   ],
   "source": [
    "train_y = train_df['sentiment'].values\n",
    "train_y.shape"
   ]
  },
  {
   "cell_type": "code",
   "execution_count": 91,
   "metadata": {
    "colab": {
     "base_uri": "https://localhost:8080/",
     "height": 335
    },
    "colab_type": "code",
    "id": "FkaWg3O1ybny",
    "outputId": "610c89ca-140b-4585-e9ba-ed989e105d6e"
   },
   "outputs": [
    {
     "name": "stdout",
     "output_type": "stream",
     "text": [
      "Epoch 1/10\n",
      "40000/40000 [==============================] - 72s 2ms/sample - loss: 0.5536 - accuracy: 0.7781\n",
      "Epoch 2/10\n",
      "40000/40000 [==============================] - 71s 2ms/sample - loss: 0.2677 - accuracy: 0.9022\n",
      "Epoch 3/10\n",
      "40000/40000 [==============================] - 71s 2ms/sample - loss: 0.1945 - accuracy: 0.9348\n",
      "Epoch 4/10\n",
      "40000/40000 [==============================] - 71s 2ms/sample - loss: 0.1659 - accuracy: 0.9463\n",
      "Epoch 5/10\n",
      "40000/40000 [==============================] - 71s 2ms/sample - loss: 0.1440 - accuracy: 0.9560\n",
      "Epoch 6/10\n",
      "40000/40000 [==============================] - 70s 2ms/sample - loss: 0.1302 - accuracy: 0.9612\n",
      "Epoch 7/10\n",
      "40000/40000 [==============================] - 70s 2ms/sample - loss: 0.1119 - accuracy: 0.9670\n",
      "Epoch 8/10\n",
      "40000/40000 [==============================] - 72s 2ms/sample - loss: 0.1045 - accuracy: 0.9709\n",
      "Epoch 9/10\n",
      "40000/40000 [==============================] - 72s 2ms/sample - loss: 0.0871 - accuracy: 0.9761\n",
      "Epoch 10/10\n",
      "40000/40000 [==============================] - 71s 2ms/sample - loss: 0.0753 - accuracy: 0.9803\n"
     ]
    },
    {
     "data": {
      "text/plain": [
       "<tensorflow.python.keras.callbacks.History at 0x7fdfc9a63860>"
      ]
     },
     "execution_count": 91,
     "metadata": {},
     "output_type": "execute_result"
    }
   ],
   "source": [
    "model.fit(x = train_X, y = train_y, batch_size = batch_size, epochs = 10, verbose = 1, shuffle = False)"
   ]
  },
  {
   "cell_type": "code",
   "execution_count": null,
   "metadata": {
    "colab": {},
    "colab_type": "code",
    "id": "ZAc16PAOybnz"
   },
   "outputs": [],
   "source": []
  },
  {
   "cell_type": "markdown",
   "metadata": {
    "colab_type": "text",
    "id": "HfTYo7Rpybn0"
   },
   "source": [
    "### Testing"
   ]
  },
  {
   "cell_type": "code",
   "execution_count": 69,
   "metadata": {
    "colab": {},
    "colab_type": "code",
    "id": "UQ_PZL2nybn1"
   },
   "outputs": [
    {
     "data": {
      "text/plain": [
       "(10000, 200)"
      ]
     },
     "execution_count": 69,
     "metadata": {},
     "output_type": "execute_result"
    }
   ],
   "source": [
    "test_X = np.array([x for x in test_df['sequenced'].values])\n",
    "test_X.shape"
   ]
  },
  {
   "cell_type": "code",
   "execution_count": 70,
   "metadata": {
    "colab": {},
    "colab_type": "code",
    "id": "HuegDSI_ybn4"
   },
   "outputs": [
    {
     "data": {
      "text/plain": [
       "(10000,)"
      ]
     },
     "execution_count": 70,
     "metadata": {},
     "output_type": "execute_result"
    }
   ],
   "source": [
    "test_y = test_df['sentiment'].values\n",
    "test_y.shape"
   ]
  },
  {
   "cell_type": "code",
   "execution_count": 92,
   "metadata": {
    "colab": {},
    "colab_type": "code",
    "id": "ejuOWdaIybn5"
   },
   "outputs": [
    {
     "name": "stdout",
     "output_type": "stream",
     "text": [
      "10000/10000 [==============================] - 4s 402us/sample - loss: 0.5331 - accuracy: 0.8566\n"
     ]
    }
   ],
   "source": [
    "test_loss, test_accuracy = model.evaluate(test_X, test_y, batch_size=batch_size, verbose = 1, workers=1)"
   ]
  },
  {
   "cell_type": "markdown",
   "metadata": {},
   "source": [
    "##### Manual Testing"
   ]
  },
  {
   "cell_type": "code",
   "execution_count": 93,
   "metadata": {
    "colab": {},
    "colab_type": "code",
    "id": "eJDhU4tLybn6"
   },
   "outputs": [],
   "source": [
    "pred_prob_y = model.predict(x = test_X)"
   ]
  },
  {
   "cell_type": "code",
   "execution_count": 94,
   "metadata": {
    "colab": {},
    "colab_type": "code",
    "id": "eihGJw5lybn7"
   },
   "outputs": [
    {
     "data": {
      "text/plain": [
       "array([[0.99985313],\n",
       "       [0.26783568],\n",
       "       [0.997473  ],\n",
       "       [0.99478924],\n",
       "       [0.99971807]], dtype=float32)"
      ]
     },
     "execution_count": 94,
     "metadata": {},
     "output_type": "execute_result"
    }
   ],
   "source": [
    "pred_prob_y[:5]"
   ]
  },
  {
   "cell_type": "code",
   "execution_count": 95,
   "metadata": {
    "colab": {},
    "colab_type": "code",
    "id": "ZHn_cz-3ybn7"
   },
   "outputs": [
    {
     "data": {
      "text/plain": [
       "array([0.99985313, 0.26783568, 0.997473  , 0.99478924, 0.99971807],\n",
       "      dtype=float32)"
      ]
     },
     "execution_count": 95,
     "metadata": {},
     "output_type": "execute_result"
    }
   ],
   "source": [
    "pred_prob_y = np.squeeze(pred_prob_y)\n",
    "pred_prob_y[:5]"
   ]
  },
  {
   "cell_type": "code",
   "execution_count": 96,
   "metadata": {
    "colab": {},
    "colab_type": "code",
    "id": "OT2sgAmwybn8"
   },
   "outputs": [
    {
     "data": {
      "text/plain": [
       "array([1, 0, 1, 1, 1])"
      ]
     },
     "execution_count": 96,
     "metadata": {},
     "output_type": "execute_result"
    }
   ],
   "source": [
    "pred_y = np.where(pred_prob_y >0.5, 1, 0)\n",
    "pred_y[:5]"
   ]
  },
  {
   "cell_type": "code",
   "execution_count": 97,
   "metadata": {
    "colab": {},
    "colab_type": "code",
    "id": "2TQAFnLaybn-"
   },
   "outputs": [
    {
     "data": {
      "text/plain": [
       "85.66"
      ]
     },
     "execution_count": 97,
     "metadata": {},
     "output_type": "execute_result"
    }
   ],
   "source": [
    "test_accuracy = (np.sum(test_y == pred_y))/len(test_y)*100\n",
    "test_accuracy"
   ]
  },
  {
   "cell_type": "code",
   "execution_count": null,
   "metadata": {
    "colab": {},
    "colab_type": "code",
    "id": "LHoTLE3eyboA"
   },
   "outputs": [],
   "source": []
  },
  {
   "cell_type": "code",
   "execution_count": null,
   "metadata": {
    "colab": {},
    "colab_type": "code",
    "id": "_BhSIUwwyboB"
   },
   "outputs": [],
   "source": []
  },
  {
   "cell_type": "code",
   "execution_count": null,
   "metadata": {
    "colab": {},
    "colab_type": "code",
    "id": "nQHma8U4yboC"
   },
   "outputs": [],
   "source": []
  },
  {
   "cell_type": "code",
   "execution_count": null,
   "metadata": {
    "colab": {},
    "colab_type": "code",
    "id": "HBkl9XxkyboE"
   },
   "outputs": [],
   "source": []
  },
  {
   "cell_type": "code",
   "execution_count": null,
   "metadata": {
    "colab": {},
    "colab_type": "code",
    "id": "ziuWNUD6yboG"
   },
   "outputs": [],
   "source": []
  },
  {
   "cell_type": "code",
   "execution_count": null,
   "metadata": {
    "colab": {},
    "colab_type": "code",
    "id": "tjM-d023yboH"
   },
   "outputs": [],
   "source": []
  },
  {
   "cell_type": "code",
   "execution_count": null,
   "metadata": {
    "colab": {},
    "colab_type": "code",
    "id": "zjiCGQTTyboI"
   },
   "outputs": [],
   "source": []
  },
  {
   "cell_type": "code",
   "execution_count": null,
   "metadata": {
    "colab": {},
    "colab_type": "code",
    "id": "s5RHJD0zyboJ"
   },
   "outputs": [],
   "source": []
  }
 ],
 "metadata": {
  "accelerator": "GPU",
  "colab": {
   "name": "Sentiment_Analysis_RNN.ipynb",
   "provenance": [],
   "version": "0.3.2"
  },
  "kernelspec": {
   "display_name": "Python (condapy36)",
   "language": "python",
   "name": "condapy36"
  },
  "language_info": {
   "codemirror_mode": {
    "name": "ipython",
    "version": 3
   },
   "file_extension": ".py",
   "mimetype": "text/x-python",
   "name": "python",
   "nbconvert_exporter": "python",
   "pygments_lexer": "ipython3",
   "version": "3.6.8"
  }
 },
 "nbformat": 4,
 "nbformat_minor": 1
}
